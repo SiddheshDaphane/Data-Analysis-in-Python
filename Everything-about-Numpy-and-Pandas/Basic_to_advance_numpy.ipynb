{
 "cells": [
  {
   "attachments": {},
   "cell_type": "markdown",
   "metadata": {},
   "source": [
    "### The basics\n",
    "Numpy's main object is the homogeneous multidimensional array. It is a table of elements (usually numbers), all of the same type, indexed by a tuple of non-negative integers. In Numpy dimensions are called axes.\n",
    "\n",
    "E.g. the array for the coordinates of a point in 3D space, [1,2,1], has one axis. That axis has 3 elements in it, so we say it has a length of 3. In the example below, the array has 2 axes. The first axis has a length of 2, the second axis has a length of 3\n",
    "\n",
    "The first axis (axis 0) corresponds to the outermost level of nesting or the rows in the array. It indeed contains 2 arrays, so its length is 2.\n",
    "The second axis (axis 1) corresponds to the innermost level or the elements within each row. Each row contains 3 elements, hence its length is 3.\n",
    "So,The first axis refers to the outer brackets (rows) and the second axis refers to the inner brackets (elements within each row)."
   ]
  },
  {
   "cell_type": "code",
   "execution_count": 1,
   "metadata": {},
   "outputs": [
    {
     "data": {
      "text/plain": [
       "[[1.0, 0.0, 0.0], [0.0, 1.0, 2.0]]"
      ]
     },
     "execution_count": 1,
     "metadata": {},
     "output_type": "execute_result"
    }
   ],
   "source": [
    "[[1.,0.,0.],\n",
    " [0.,1.,2.]]"
   ]
  },
  {
   "attachments": {},
   "cell_type": "markdown",
   "metadata": {},
   "source": [
    "Numpy's array class is called \"ndarray\". It is also known by the alias \"array\". The more imporatnt attributes of an \"ndarray\" object are:\n",
    "\n",
    "1) ndarray.ndim\n",
    "        the number of axes (dimensions) of the array\n",
    "\n",
    "2) ndarray.shape\n",
    "        the dimensions of the array. This is a tuple of integers indicating the size of the array in each dimensions. For a matrix with \"n\" rows and \"m\" columns, \"shape\" will be (n,m). The length of the \"shape\" tuple is therefore the number of axes, \"ndim\".\n",
    "\n",
    "3) ndarray.size\n",
    "        the total number of elements of the array. This is equal to the product of the elements of \"shape\" (n * m).\n",
    "\n",
    "4) ndarray.dtype\n",
    "        an object describing the type of the elements in the array. One can create or specify dtype's using standard Python types. Additionally NumPy provides types of its own.\n",
    "\n",
    "5) ndarray.itemsize\n",
    "        the size in bytes of each element of the array. E.g., an array of elements of type \"float64\" has \"itemsize\" 8 (=64/8), while one of type \"complex32\" has \"itemsize\" 4 (=32/4).\n",
    "\n",
    "6) ndarray.data\n",
    "        the buffer contaning the actual elements of the array."
   ]
  },
  {
   "cell_type": "code",
   "execution_count": 2,
   "metadata": {},
   "outputs": [
    {
     "data": {
      "text/plain": [
       "array([[ 0,  1,  2,  3,  4],\n",
       "       [ 5,  6,  7,  8,  9],\n",
       "       [10, 11, 12, 13, 14]])"
      ]
     },
     "execution_count": 2,
     "metadata": {},
     "output_type": "execute_result"
    }
   ],
   "source": [
    "import numpy as np\n",
    "\n",
    "a = np.arange(15).reshape(3,5)\n",
    "a"
   ]
  },
  {
   "cell_type": "code",
   "execution_count": 3,
   "metadata": {},
   "outputs": [
    {
     "data": {
      "text/plain": [
       "(3, 5)"
      ]
     },
     "execution_count": 3,
     "metadata": {},
     "output_type": "execute_result"
    }
   ],
   "source": [
    "a.shape"
   ]
  },
  {
   "cell_type": "code",
   "execution_count": 4,
   "metadata": {},
   "outputs": [
    {
     "data": {
      "text/plain": [
       "2"
      ]
     },
     "execution_count": 4,
     "metadata": {},
     "output_type": "execute_result"
    }
   ],
   "source": [
    "a.ndim"
   ]
  },
  {
   "cell_type": "code",
   "execution_count": 5,
   "metadata": {},
   "outputs": [
    {
     "data": {
      "text/plain": [
       "dtype('int64')"
      ]
     },
     "execution_count": 5,
     "metadata": {},
     "output_type": "execute_result"
    }
   ],
   "source": [
    "a.dtype"
   ]
  },
  {
   "cell_type": "code",
   "execution_count": 6,
   "metadata": {},
   "outputs": [
    {
     "data": {
      "text/plain": [
       "15"
      ]
     },
     "execution_count": 6,
     "metadata": {},
     "output_type": "execute_result"
    }
   ],
   "source": [
    "a.size #(3 * 5)"
   ]
  },
  {
   "cell_type": "code",
   "execution_count": 7,
   "metadata": {},
   "outputs": [
    {
     "data": {
      "text/plain": [
       "numpy.ndarray"
      ]
     },
     "execution_count": 7,
     "metadata": {},
     "output_type": "execute_result"
    }
   ],
   "source": [
    "type(a)"
   ]
  },
  {
   "cell_type": "code",
   "execution_count": null,
   "metadata": {},
   "outputs": [],
   "source": []
  }
 ],
 "metadata": {
  "kernelspec": {
   "display_name": "base",
   "language": "python",
   "name": "python3"
  },
  "language_info": {
   "codemirror_mode": {
    "name": "ipython",
    "version": 3
   },
   "file_extension": ".py",
   "mimetype": "text/x-python",
   "name": "python",
   "nbconvert_exporter": "python",
   "pygments_lexer": "ipython3",
   "version": "3.9.13"
  },
  "orig_nbformat": 4,
  "vscode": {
   "interpreter": {
    "hash": "e35bb2e3c79095b46db2d2cf20f0213186650ec52b2a529d2197a0fcfde3c5b4"
   }
  }
 },
 "nbformat": 4,
 "nbformat_minor": 2
}
