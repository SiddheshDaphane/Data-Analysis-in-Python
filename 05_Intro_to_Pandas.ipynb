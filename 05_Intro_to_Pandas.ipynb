{
 "cells": [
  {
   "attachments": {},
   "cell_type": "markdown",
   "metadata": {},
   "source": [
    "# Introduction to Pandas\n",
    "\n",
    "In this section of the course we will learn how to use pandas for data analysis. You can think of pandas as an extremely powerful version of Excel, with a lot more features. In this section of the course, you should go through the notebooks in this order:\n",
    "\n",
    "* Introduction to Pandas\n",
    "* Series\n",
    "* DataFrames\n",
    "* Missing Data\n",
    "* GroupBy\n",
    "* Merging,Joining,and Concatenating\n",
    "* Operations\n",
    "* Data Input and Output"
   ]
  }
 ],
 "metadata": {
  "kernelspec": {
   "display_name": "base",
   "language": "python",
   "name": "python3"
  },
  "language_info": {
   "name": "python",
   "version": "3.9.13 (main, Aug 25 2022, 18:29:29) \n[Clang 12.0.0 ]"
  },
  "orig_nbformat": 4,
  "vscode": {
   "interpreter": {
    "hash": "e35bb2e3c79095b46db2d2cf20f0213186650ec52b2a529d2197a0fcfde3c5b4"
   }
  }
 },
 "nbformat": 4,
 "nbformat_minor": 2
}
